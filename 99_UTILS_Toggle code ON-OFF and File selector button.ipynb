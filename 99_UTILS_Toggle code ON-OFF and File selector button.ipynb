{
 "cells": [
  {
   "cell_type": "code",
   "execution_count": 1,
   "metadata": {},
   "outputs": [
    {
     "data": {
      "text/html": [
       "\n",
       "<script>\n",
       "code_show=false;\n",
       "function code_toggle(){\n",
       "    if(code_show){$('.prompt, .input, .output_stderr, .output_error').hide();}\n",
       "    else{$('.input, .prompt, .output_stderr, .output_error').show();}\n",
       "    code_show=!code_show;\n",
       "}\n",
       "function initialize(){\n",
       "    var output=$('.output_subarea.output_text.output_stream.output_stdout');\n",
       "    $.merge(output,$('.output_subarea.output_text.output_result'));\n",
       "    for(var i=0;i<output.length;i++)for(var j=0;j<output[i].children.length;j++)\n",
       "        \n",
       "    code_toggle();\n",
       "}\n",
       "$(document).ready(initialize);\n",
       "</script>\n",
       "Click <a href=\"javascript:code_toggle()\">here</a> to show/hide codes in this notebook.\n"
      ],
      "text/plain": [
       "<IPython.core.display.HTML object>"
      ]
     },
     "execution_count": 1,
     "metadata": {},
     "output_type": "execute_result"
    }
   ],
   "source": [
    "from IPython.display import HTML\n",
    "HTML('''\n",
    "<script>\n",
    "code_show=false;\n",
    "function code_toggle(){\n",
    "    if(code_show){$('.prompt, .input, .output_stderr, .output_error').hide();}\n",
    "    else{$('.input, .prompt, .output_stderr, .output_error').show();}\n",
    "    code_show=!code_show;\n",
    "}\n",
    "function initialize(){\n",
    "    var output=$('.output_subarea.output_text.output_stream.output_stdout');\n",
    "    $.merge(output,$('.output_subarea.output_text.output_result'));\n",
    "    for(var i=0;i<output.length;i++)for(var j=0;j<output[i].children.length;j++)\n",
    "        \n",
    "    code_toggle();\n",
    "}\n",
    "$(document).ready(initialize);\n",
    "</script>\n",
    "Click <a href=\"javascript:code_toggle()\">here</a> to show/hide codes in this notebook.\n",
    "''')"
   ]
  },
  {
   "cell_type": "code",
   "execution_count": 2,
   "metadata": {},
   "outputs": [
    {
     "data": {
      "application/vnd.jupyter.widget-view+json": {
       "model_id": "ca94065218fe466d88a53df4a8014c90",
       "version_major": 2,
       "version_minor": 0
      },
      "text/plain": [
       "Button(description='File select', style=ButtonStyle())"
      ]
     },
     "metadata": {},
     "output_type": "display_data"
    }
   ],
   "source": [
    "from ipywidgets import Button\n",
    "from tkinter import Tk, filedialog\n",
    "from IPython.display import clear_output, display\n",
    "\n",
    "def select_files(b):\n",
    "    clear_output()\n",
    "    root = Tk()\n",
    "    root.withdraw() # Hide the main window.\n",
    "    root.call('wm', 'attributes', '.', '-topmost', True) # Raise the root to the top of all windows.\n",
    "    b.files = filedialog.askopenfilename(multiple=True) # List of selected files will be set button's file attribute.\n",
    "    print(b.files) # Print the list of files selected.\n",
    "\n",
    "fileselect = Button(description=\"File select\")\n",
    "fileselect.on_click(select_files)\n",
    "\n",
    "display(fileselect)"
   ]
  },
  {
   "cell_type": "code",
   "execution_count": null,
   "metadata": {},
   "outputs": [],
   "source": [
    "files = fileselect.files\n",
    "print(\"The first file name is: \", files[0])"
   ]
  },
  {
   "cell_type": "code",
   "execution_count": null,
   "metadata": {},
   "outputs": [],
   "source": [
    "HTML('''<script>initialize();</script>Click <a href=\"javascript:code_toggle()\">here</a> to show/hide codes in this notebook.''')"
   ]
  }
 ],
 "metadata": {
  "kernelspec": {
   "display_name": "Python 3",
   "language": "python",
   "name": "python3"
  },
  "language_info": {
   "codemirror_mode": {
    "name": "ipython",
    "version": 3
   },
   "file_extension": ".py",
   "mimetype": "text/x-python",
   "name": "python",
   "nbconvert_exporter": "python",
   "pygments_lexer": "ipython3",
   "version": "3.7.7"
  },
  "toc": {
   "base_numbering": 1,
   "nav_menu": {},
   "number_sections": true,
   "sideBar": true,
   "skip_h1_title": true,
   "title_cell": "Table of Contents",
   "title_sidebar": "Contents",
   "toc_cell": false,
   "toc_position": {
    "height": "calc(100% - 180px)",
    "left": "10px",
    "top": "150px",
    "width": "512px"
   },
   "toc_section_display": true,
   "toc_window_display": true
  },
  "varInspector": {
   "cols": {
    "lenName": 16,
    "lenType": 16,
    "lenVar": 40
   },
   "kernels_config": {
    "python": {
     "delete_cmd_postfix": "",
     "delete_cmd_prefix": "del ",
     "library": "var_list.py",
     "varRefreshCmd": "print(var_dic_list())"
    },
    "r": {
     "delete_cmd_postfix": ") ",
     "delete_cmd_prefix": "rm(",
     "library": "var_list.r",
     "varRefreshCmd": "cat(var_dic_list()) "
    }
   },
   "types_to_exclude": [
    "module",
    "function",
    "builtin_function_or_method",
    "instance",
    "_Feature"
   ],
   "window_display": false
  }
 },
 "nbformat": 4,
 "nbformat_minor": 4
}
