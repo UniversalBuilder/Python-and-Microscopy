{
 "cells": [
  {
   "cell_type": "markdown",
   "metadata": {},
   "source": [
    "# 99 [UTILS] Useful functions\n",
    "\n",
    "*This notebook collects code snippets and useful functions*"
   ]
  },
  {
   "cell_type": "markdown",
   "metadata": {},
   "source": [
    "## Formatting and export"
   ]
  },
  {
   "cell_type": "markdown",
   "metadata": {},
   "source": [
    "### Configure nbconvert to use pdf and png"
   ]
  },
  {
   "cell_type": "markdown",
   "metadata": {},
   "source": [
    "You will need several packages installed :\n",
    "\n",
    "- nbconvert [Installation details](https://nbconvert.readthedocs.io/en/latest/install.html)\n",
    "- pandoc (see above)\n",
    "- texlive-xetex on MacOS & Linux (see above)\n",
    "- MixTex on Windows [link](https://miktex.org/download)"
   ]
  },
  {
   "cell_type": "markdown",
   "metadata": {},
   "source": [
    "Usage from a terminal:\n",
    "\n",
    "```python\n",
    "jupyter nbconvert --to FORMAT notebook.ipynb\n",
    "```\n",
    "\n",
    "This will convert the Jupyter notebook file `notebook.ipynb` into the output format given by the FORMAT string.\n",
    "\n",
    "Some available values for `FORMAT` :\n",
    "\n",
    "- HTML (default)\n",
    "- LaTeX\n",
    "- PDF\n",
    "- Markdown\n",
    "- executable script\n",
    "- notebook"
   ]
  },
  {
   "cell_type": "markdown",
   "metadata": {},
   "source": [
    "## Command line tools\n",
    "\n",
    "You can type commands like pip, conda and CLI commands directly from within a Jupyter notebook."
   ]
  },
  {
   "cell_type": "markdown",
   "metadata": {},
   "source": [
    "### General\n",
    "\n",
    "Access `conda` and `pip` from a notebook using:\n",
    "\n",
    "```python\n",
    "!pip install some_package\n",
    "```\n",
    "\n",
    "or\n",
    "\n",
    "```python\n",
    "!conda install some_package\n",
    "```"
   ]
  },
  {
   "cell_type": "markdown",
   "metadata": {},
   "source": [
    "### CLI commands with Windows\n",
    "\n",
    "You can type command like commands using the `cmd` program with this syntax **at the beginning of a cell**:\n",
    "\n",
    "```python\n",
    "%%cmd\n",
    "where python\n",
    "mkdir data\n",
    "dir\n",
    "```\n",
    "\n",
    "### CLI commands with Linux & MacOS\n",
    "\n",
    "Similarly, you can use `bash` with UNIX based OSes :\n",
    "\n",
    "```python\n",
    "%%bash\n",
    "head sometext.txt\n",
    "ls\n",
    "```\n",
    "\n",
    "**Note that all the cell will be interpreted as a suit of command-line instructions.**"
   ]
  },
  {
   "cell_type": "code",
   "execution_count": null,
   "metadata": {},
   "outputs": [],
   "source": []
  }
 ],
 "metadata": {
  "kernelspec": {
   "display_name": "Python 3",
   "language": "python",
   "name": "python3"
  },
  "language_info": {
   "codemirror_mode": {
    "name": "ipython",
    "version": 3
   },
   "file_extension": ".py",
   "mimetype": "text/x-python",
   "name": "python",
   "nbconvert_exporter": "python",
   "pygments_lexer": "ipython3",
   "version": "3.7.7"
  },
  "toc": {
   "base_numbering": 1,
   "nav_menu": {},
   "number_sections": true,
   "sideBar": true,
   "skip_h1_title": true,
   "title_cell": "Table of Contents",
   "title_sidebar": "Contents",
   "toc_cell": false,
   "toc_position": {},
   "toc_section_display": true,
   "toc_window_display": true
  },
  "varInspector": {
   "cols": {
    "lenName": 16,
    "lenType": 16,
    "lenVar": 40
   },
   "kernels_config": {
    "python": {
     "delete_cmd_postfix": "",
     "delete_cmd_prefix": "del ",
     "library": "var_list.py",
     "varRefreshCmd": "print(var_dic_list())"
    },
    "r": {
     "delete_cmd_postfix": ") ",
     "delete_cmd_prefix": "rm(",
     "library": "var_list.r",
     "varRefreshCmd": "cat(var_dic_list()) "
    }
   },
   "types_to_exclude": [
    "module",
    "function",
    "builtin_function_or_method",
    "instance",
    "_Feature"
   ],
   "window_display": false
  }
 },
 "nbformat": 4,
 "nbformat_minor": 4
}
